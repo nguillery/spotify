{
 "cells": [
  {
   "cell_type": "code",
   "execution_count": 1,
   "metadata": {
    "ExecuteTime": {
     "end_time": "2018-04-05T21:07:56.496268Z",
     "start_time": "2018-04-05T21:07:50.862312Z"
    },
    "collapsed": true
   },
   "outputs": [],
   "source": [
    "%matplotlib inline\n",
    "\n",
    "import numpy as np\n",
    "import pandas as pd\n",
    "import matplotlib.pyplot as plt\n",
    "import datetime\n",
    "import requests\n",
    "import bs4\n",
    "\n",
    "import spotipy\n",
    "from spotipy.oauth2 import SpotifyClientCredentials\n",
    "\n",
    "CLIENT_ID = '7922a756b15b4992b6ceb45936211e51'\n",
    "CLIENT_SECRET = 'ba9f61e8601046af92002cb044d59f56'\n",
    "\n",
    "client_credentials_manager = SpotifyClientCredentials(CLIENT_ID,CLIENT_SECRET)\n",
    "sp = spotipy.Spotify(client_credentials_manager=client_credentials_manager)"
   ]
  },
  {
   "cell_type": "code",
   "execution_count": 7,
   "metadata": {
    "ExecuteTime": {
     "end_time": "2018-04-05T22:10:02.793233Z",
     "start_time": "2018-04-05T22:10:02.322034Z"
    },
    "collapsed": true
   },
   "outputs": [],
   "source": [
    "playlists = sp.user_playlists('spotify')"
   ]
  },
  {
   "cell_type": "markdown",
   "metadata": {},
   "source": [
    "Genre popularity\n",
    "=====\n",
    "\n",
    "Scrape genre popularity list from <a href=\"http://everynoise.com/everynoise1d.cgi?vector=popularity&scope=all\"> Every Noise at Once</a>."
   ]
  },
  {
   "cell_type": "code",
   "execution_count": 3,
   "metadata": {
    "ExecuteTime": {
     "end_time": "2018-04-05T21:08:03.742784Z",
     "start_time": "2018-04-05T21:08:01.482713Z"
    },
    "collapsed": true
   },
   "outputs": [],
   "source": [
    "url = 'http://everynoise.com/everynoise1d.cgi?scope=deeper&vector=popularity'\n",
    "source = requests.get(url).content\n",
    "soup = bs4.BeautifulSoup(source,'lxml')\n",
    "\n",
    "genrePopularity = dict()\n",
    "rows = soup.table.findAll('tr')\n",
    "count = len(rows)\n",
    "for rank,tr in enumerate(rows):\n",
    "    genrePopularity[tr.findAll('td')[2].next.next] = round(100*(1 - rank/count),2)"
   ]
  },
  {
   "cell_type": "code",
   "execution_count": 4,
   "metadata": {
    "ExecuteTime": {
     "end_time": "2018-04-05T21:08:05.991049Z",
     "start_time": "2018-04-05T21:08:05.623871Z"
    },
    "collapsed": true
   },
   "outputs": [],
   "source": [
    "def PlaylistData(playlist,features):\n",
    "    '''Return dict of playlist data.\n",
    "    \n",
    "    Input:\n",
    "    playlist -- Spotify playlist dict\n",
    "    features -- list of desired audio features\n",
    "    \n",
    "    Output:\n",
    "    results -- dict with features as keys\n",
    "    '''\n",
    "    \n",
    "    today = pd.to_datetime(datetime.date.today())\n",
    "    \n",
    "    trackScores = []\n",
    "    artistIds = []\n",
    "    ages = []\n",
    "    trackIds = []\n",
    "    \n",
    "    #Collect data for each track\n",
    "    for track in playlist['tracks']['items']:\n",
    "        if track['track']:\n",
    "            trackScores.append(track['track']['popularity'])\n",
    "            artistIds.append([artist['id'] for artist in track['track']['artists']])\n",
    "            ages.append((today - pd.to_datetime(track['track']['album']['release_date'])).days)\n",
    "            trackIds.append(track['track']['id'])\n",
    "    \n",
    "    #For paged playlists (max tracks per request = 100)\n",
    "    while playlist['tracks']['next']:\n",
    "        playlist['tracks'] = sp.next(playlist['tracks'])\n",
    "        for track in playlist['tracks']['items']:\n",
    "            if track['track']:\n",
    "                trackScores.append(track['track']['popularity'])\n",
    "                artistIds.append([artist['id'] for artist in track['track']['artists']])\n",
    "                ages.append((today - pd.to_datetime(track['track']['album']['release_date'])).days)\n",
    "                trackIds.append(track['track']['id'])\n",
    "            \n",
    "    #Reset playlist to first page\n",
    "    while playlist['tracks']['previous']:\n",
    "        playlist['tracks'] = sp.previous(playlist['tracks'])\n",
    "    \n",
    "    #Flatten artists to request artist details (max artists per request = 50)\n",
    "    artists = []\n",
    "    flatIds = [artistId for sublist in artistIds for artistId in sublist]\n",
    "    for j in range(int(np.ceil(len(flatIds)/50))):\n",
    "        artists.extend(sp.artists(flatIds[j*50:(j+1)*50])['artists'])\n",
    "    \n",
    "    #Determine max artist and genre popularity for each track (artistIds grouped by track)\n",
    "    artistScores = []\n",
    "    genreScores = []\n",
    "    artCount = 0\n",
    "    for group in artistIds:\n",
    "        artistScores.append(np.max([art['popularity'] for art in artists[artCount:artCount+len(group)]]))\n",
    "        \n",
    "        #Ignore unranked genres (just christmas genres?) and tracks with no genres listed\n",
    "        genres = set([gen for art in artists[artCount:artCount+len(group)] for gen in art['genres'] if gen in genrePopularity.keys()])\n",
    "        if len(genres)>0:\n",
    "            genreScores.append(np.max([genrePopularity[gen] for gen in genres]))\n",
    "        \n",
    "        artCount += len(group)\n",
    "    \n",
    "    #Request audio features for each track (max tracks per request = 50)\n",
    "    trackFeaturesAll = []\n",
    "    for j in range(int(np.ceil(len(trackIds)/50))):\n",
    "        trackFeaturesAll.extend(sp.audio_features(trackIds[j*50:(j+1)*50]))\n",
    "    \n",
    "    #Record desired features\n",
    "    trackFeatures = []\n",
    "    for track in trackFeaturesAll:\n",
    "        if track:\n",
    "            trackFeatures.append([track[feat] for feat in features])\n",
    "    trackFeatures = np.array(trackFeatures)\n",
    "    \n",
    "    #Compute statistics\n",
    "    results = dict()\n",
    "    \n",
    "    results['track_popularity'] = round(np.mean(trackScores),2)\n",
    "    results['artist_popularity'] = round(np.mean(artistScores),2)\n",
    "    results['genre_popularity'] = round(np.mean(genreScores),2)\n",
    "    results['age'] = round(np.mean(ages),2)\n",
    "    for j,feat in enumerate(features):\n",
    "        results[feat] = round(np.mean(trackFeatures[:,j]),4)\n",
    "    \n",
    "#     results['track_popularity'] = [round(np.mean(trackScores),2), round(np.std(trackScores),2)]\n",
    "#     results['artist_popularity'] = [round(np.mean(artistScores),2), round(np.std(artistScores),2)]\n",
    "#     results['genre_popularity'] = [round(np.mean(genreScores),2), round(np.std(genreScores),2)]\n",
    "#     results['age'] = [round(np.mean(ages),2), round(np.std(ages),2)]\n",
    "#     for j,feat in enumerate(features):\n",
    "#         results[feat] = [round(np.mean(trackFeatures[:,j]),4),round(np.std(trackFeatures[:,j]),4)]\n",
    "    \n",
    "    return results"
   ]
  },
  {
   "cell_type": "code",
   "execution_count": 8,
   "metadata": {
    "ExecuteTime": {
     "end_time": "2018-04-05T22:20:55.863088Z",
     "start_time": "2018-04-05T22:10:10.268866Z"
    },
    "scrolled": true
   },
   "outputs": [
    {
     "ename": "TypeError",
     "evalue": "unsupported operand type(s) for -: 'Timestamp' and 'NoneType'",
     "output_type": "error",
     "traceback": [
      "\u001b[1;31m---------------------------------------------------------------------------\u001b[0m",
      "\u001b[1;31mTypeError\u001b[0m                                 Traceback (most recent call last)",
      "\u001b[1;32m<ipython-input-8-1d80bcc1d2d6>\u001b[0m in \u001b[0;36m<module>\u001b[1;34m()\u001b[0m\n\u001b[0;32m     33\u001b[0m             \u001b[0mdf\u001b[0m\u001b[1;33m[\u001b[0m\u001b[1;34m'followers'\u001b[0m\u001b[1;33m]\u001b[0m\u001b[1;33m.\u001b[0m\u001b[0mappend\u001b[0m\u001b[1;33m(\u001b[0m\u001b[0mpl\u001b[0m\u001b[1;33m[\u001b[0m\u001b[1;34m'followers'\u001b[0m\u001b[1;33m]\u001b[0m\u001b[1;33m[\u001b[0m\u001b[1;34m'total'\u001b[0m\u001b[1;33m]\u001b[0m\u001b[1;33m)\u001b[0m\u001b[1;33m\u001b[0m\u001b[0m\n\u001b[0;32m     34\u001b[0m \u001b[1;33m\u001b[0m\u001b[0m\n\u001b[1;32m---> 35\u001b[1;33m             \u001b[0mdata\u001b[0m \u001b[1;33m=\u001b[0m \u001b[0mPlaylistData\u001b[0m\u001b[1;33m(\u001b[0m\u001b[0mpl\u001b[0m\u001b[1;33m,\u001b[0m \u001b[0mfeatures\u001b[0m\u001b[1;33m)\u001b[0m\u001b[1;33m\u001b[0m\u001b[0m\n\u001b[0m\u001b[0;32m     36\u001b[0m             \u001b[1;32mfor\u001b[0m \u001b[0mcol\u001b[0m \u001b[1;32min\u001b[0m \u001b[1;33m(\u001b[0m\u001b[0minfo\u001b[0m \u001b[1;33m+\u001b[0m \u001b[0mfeatures\u001b[0m\u001b[1;33m)\u001b[0m\u001b[1;33m:\u001b[0m\u001b[1;33m\u001b[0m\u001b[0m\n\u001b[0;32m     37\u001b[0m                 \u001b[0mdf\u001b[0m\u001b[1;33m[\u001b[0m\u001b[0mcol\u001b[0m\u001b[1;33m]\u001b[0m\u001b[1;33m.\u001b[0m\u001b[0mappend\u001b[0m\u001b[1;33m(\u001b[0m\u001b[0mdata\u001b[0m\u001b[1;33m[\u001b[0m\u001b[0mcol\u001b[0m\u001b[1;33m]\u001b[0m\u001b[1;33m)\u001b[0m\u001b[1;33m\u001b[0m\u001b[0m\n",
      "\u001b[1;32m<ipython-input-4-56330586a84a>\u001b[0m in \u001b[0;36mPlaylistData\u001b[1;34m(playlist, features)\u001b[0m\n\u001b[0;32m     22\u001b[0m             \u001b[0mtrackScores\u001b[0m\u001b[1;33m.\u001b[0m\u001b[0mappend\u001b[0m\u001b[1;33m(\u001b[0m\u001b[0mtrack\u001b[0m\u001b[1;33m[\u001b[0m\u001b[1;34m'track'\u001b[0m\u001b[1;33m]\u001b[0m\u001b[1;33m[\u001b[0m\u001b[1;34m'popularity'\u001b[0m\u001b[1;33m]\u001b[0m\u001b[1;33m)\u001b[0m\u001b[1;33m\u001b[0m\u001b[0m\n\u001b[0;32m     23\u001b[0m             \u001b[0martistIds\u001b[0m\u001b[1;33m.\u001b[0m\u001b[0mappend\u001b[0m\u001b[1;33m(\u001b[0m\u001b[1;33m[\u001b[0m\u001b[0martist\u001b[0m\u001b[1;33m[\u001b[0m\u001b[1;34m'id'\u001b[0m\u001b[1;33m]\u001b[0m \u001b[1;32mfor\u001b[0m \u001b[0martist\u001b[0m \u001b[1;32min\u001b[0m \u001b[0mtrack\u001b[0m\u001b[1;33m[\u001b[0m\u001b[1;34m'track'\u001b[0m\u001b[1;33m]\u001b[0m\u001b[1;33m[\u001b[0m\u001b[1;34m'artists'\u001b[0m\u001b[1;33m]\u001b[0m\u001b[1;33m]\u001b[0m\u001b[1;33m)\u001b[0m\u001b[1;33m\u001b[0m\u001b[0m\n\u001b[1;32m---> 24\u001b[1;33m             \u001b[0mages\u001b[0m\u001b[1;33m.\u001b[0m\u001b[0mappend\u001b[0m\u001b[1;33m(\u001b[0m\u001b[1;33m(\u001b[0m\u001b[0mtoday\u001b[0m \u001b[1;33m-\u001b[0m \u001b[0mpd\u001b[0m\u001b[1;33m.\u001b[0m\u001b[0mto_datetime\u001b[0m\u001b[1;33m(\u001b[0m\u001b[0mtrack\u001b[0m\u001b[1;33m[\u001b[0m\u001b[1;34m'track'\u001b[0m\u001b[1;33m]\u001b[0m\u001b[1;33m[\u001b[0m\u001b[1;34m'album'\u001b[0m\u001b[1;33m]\u001b[0m\u001b[1;33m[\u001b[0m\u001b[1;34m'release_date'\u001b[0m\u001b[1;33m]\u001b[0m\u001b[1;33m)\u001b[0m\u001b[1;33m)\u001b[0m\u001b[1;33m.\u001b[0m\u001b[0mdays\u001b[0m\u001b[1;33m)\u001b[0m\u001b[1;33m\u001b[0m\u001b[0m\n\u001b[0m\u001b[0;32m     25\u001b[0m             \u001b[0mtrackIds\u001b[0m\u001b[1;33m.\u001b[0m\u001b[0mappend\u001b[0m\u001b[1;33m(\u001b[0m\u001b[0mtrack\u001b[0m\u001b[1;33m[\u001b[0m\u001b[1;34m'track'\u001b[0m\u001b[1;33m]\u001b[0m\u001b[1;33m[\u001b[0m\u001b[1;34m'id'\u001b[0m\u001b[1;33m]\u001b[0m\u001b[1;33m)\u001b[0m\u001b[1;33m\u001b[0m\u001b[0m\n\u001b[0;32m     26\u001b[0m \u001b[1;33m\u001b[0m\u001b[0m\n",
      "\u001b[1;31mTypeError\u001b[0m: unsupported operand type(s) for -: 'Timestamp' and 'NoneType'"
     ]
    }
   ],
   "source": [
    "features = ['danceability', 'energy', 'key', 'loudness', 'mode', 'acousticness']\n",
    "features.extend(['instrumentalness', 'valence', 'tempo', 'duration_ms', 'time_signature'])\n",
    "\n",
    "info = ['track_popularity','artist_popularity', 'genre_popularity', 'age']\n",
    "\n",
    "columns = ['name','id','followers','length'] + info + features\n",
    "df = {col: [] for col in columns}\n",
    "\n",
    "for pl in playlists['items']:\n",
    "    if pl['tracks']['total'] > 0:\n",
    "        pl = sp.user_playlist('spotify',playlist_id=pl['id'])\n",
    "\n",
    "        df['name'].append(pl['name'])\n",
    "        df['id'].append(pl['id'])\n",
    "        df['length'].append(pl['tracks']['total'])\n",
    "        df['followers'].append(pl['followers']['total'])\n",
    "\n",
    "        data = PlaylistData(pl, features)\n",
    "        for col in (info + features):\n",
    "            df[col].append(data[col])\n",
    "\n",
    "its = 1\n",
    "while ((playlists['next'] != None) & (its < 12)):\n",
    "    playlists = sp.next(playlists)\n",
    "    its +=1\n",
    "    for pl in playlists['items']:\n",
    "        if pl['tracks']['total'] > 0:\n",
    "            pl = sp.user_playlist('spotify',playlist_id=pl['id'])\n",
    "\n",
    "            df['name'].append(pl['name'])\n",
    "            df['id'].append(pl['id'])\n",
    "            df['length'].append(pl['tracks']['total'])\n",
    "            df['followers'].append(pl['followers']['total'])\n",
    "\n",
    "            data = PlaylistData(pl, features)\n",
    "            for col in (info + features):\n",
    "                df[col].append(data[col])\n",
    "\n",
    "df = pd.DataFrame(df)\n",
    "df.head()"
   ]
  },
  {
   "cell_type": "code",
   "execution_count": 37,
   "metadata": {
    "ExecuteTime": {
     "end_time": "2018-04-06T01:07:11.357529Z",
     "start_time": "2018-04-06T01:07:11.345512Z"
    }
   },
   "outputs": [
    {
     "data": {
      "text/plain": [
       "{'album': {'album_type': None,\n",
       "  'artists': [],\n",
       "  'available_markets': [],\n",
       "  'external_urls': {},\n",
       "  'href': None,\n",
       "  'id': None,\n",
       "  'images': [],\n",
       "  'name': 'Gossip In The Grain',\n",
       "  'release_date': None,\n",
       "  'release_date_precision': None,\n",
       "  'type': 'album',\n",
       "  'uri': None},\n",
       " 'artists': [{'external_urls': {},\n",
       "   'href': None,\n",
       "   'id': None,\n",
       "   'name': 'Ray LaMontagne',\n",
       "   'type': 'artist',\n",
       "   'uri': None}],\n",
       " 'available_markets': [],\n",
       " 'disc_number': 0,\n",
       " 'duration_ms': 354000,\n",
       " 'explicit': False,\n",
       " 'external_ids': {},\n",
       " 'external_urls': {},\n",
       " 'href': None,\n",
       " 'id': None,\n",
       " 'name': 'I Still Care For You',\n",
       " 'popularity': 0,\n",
       " 'preview_url': None,\n",
       " 'track_number': 0,\n",
       " 'type': 'track',\n",
       " 'uri': 'spotify:local:Ray+LaMontagne:Gossip+In+The+Grain:I+Still+Care+For+You:354'}"
      ]
     },
     "execution_count": 37,
     "metadata": {},
     "output_type": "execute_result"
    }
   ],
   "source": [
    "today = pd.to_datetime(datetime.date.today())\n",
    "pl['tracks']['items'][12]['track']"
   ]
  },
  {
   "cell_type": "code",
   "execution_count": 25,
   "metadata": {
    "ExecuteTime": {
     "end_time": "2018-04-06T01:05:42.975798Z",
     "start_time": "2018-04-06T01:05:42.959798Z"
    }
   },
   "outputs": [
    {
     "ename": "AttributeError",
     "evalue": "'dict' object has no attribute 'to_csv'",
     "output_type": "error",
     "traceback": [
      "\u001b[1;31m---------------------------------------------------------------------------\u001b[0m",
      "\u001b[1;31mAttributeError\u001b[0m                            Traceback (most recent call last)",
      "\u001b[1;32m<ipython-input-25-89ae27029f54>\u001b[0m in \u001b[0;36m<module>\u001b[1;34m()\u001b[0m\n\u001b[1;32m----> 1\u001b[1;33m \u001b[0mdf\u001b[0m\u001b[1;33m.\u001b[0m\u001b[0mto_csv\u001b[0m\u001b[1;33m(\u001b[0m\u001b[1;34m'spotifyData.csv'\u001b[0m\u001b[1;33m,\u001b[0m \u001b[0mencoding\u001b[0m\u001b[1;33m=\u001b[0m\u001b[1;34m'utf-8'\u001b[0m\u001b[1;33m,\u001b[0m \u001b[0mindex\u001b[0m\u001b[1;33m=\u001b[0m\u001b[1;32mFalse\u001b[0m\u001b[1;33m)\u001b[0m\u001b[1;33m\u001b[0m\u001b[0m\n\u001b[0m",
      "\u001b[1;31mAttributeError\u001b[0m: 'dict' object has no attribute 'to_csv'"
     ]
    }
   ],
   "source": [
    "df.to_csv('spotifyData.csv', encoding='utf-8', index=False)"
   ]
  },
  {
   "cell_type": "code",
   "execution_count": null,
   "metadata": {
    "ExecuteTime": {
     "end_time": "2018-02-24T01:08:16.735489Z",
     "start_time": "2018-02-24T01:07:21.972784Z"
    },
    "collapsed": true,
    "scrolled": false
   },
   "outputs": [],
   "source": [
    "df1 = df[info].copy().applymap(lambda x: x[0])\n",
    "df1['followers'] = np.log10(df.followers.copy())\n",
    "sns.pairplot(df1,hue = 'followers')\n",
    "plt.show()"
   ]
  },
  {
   "cell_type": "code",
   "execution_count": null,
   "metadata": {
    "ExecuteTime": {
     "end_time": "2018-02-24T01:10:50.513571Z",
     "start_time": "2018-02-24T01:10:50.333559Z"
    },
    "collapsed": true
   },
   "outputs": [],
   "source": [
    "plt.scatter(np.log10(df1.genre_popularity),df1.followers)"
   ]
  },
  {
   "cell_type": "code",
   "execution_count": null,
   "metadata": {
    "collapsed": true
   },
   "outputs": [],
   "source": []
  }
 ],
 "metadata": {
  "kernelspec": {
   "display_name": "Python 3",
   "language": "python",
   "name": "python3"
  },
  "language_info": {
   "codemirror_mode": {
    "name": "ipython",
    "version": 3
   },
   "file_extension": ".py",
   "mimetype": "text/x-python",
   "name": "python",
   "nbconvert_exporter": "python",
   "pygments_lexer": "ipython3",
   "version": "3.6.3"
  }
 },
 "nbformat": 4,
 "nbformat_minor": 2
}
